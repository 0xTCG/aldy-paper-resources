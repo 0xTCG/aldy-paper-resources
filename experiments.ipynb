{
 "cells": [
  {
   "cell_type": "markdown",
   "metadata": {},
   "source": [
    "# Aldy: Data Setup\n",
    "---\n",
    "\n",
    "This notebook documets all of the commands used to perform experiments and generate data from the Aldy paper."
   ]
  },
  {
   "cell_type": "markdown",
   "metadata": {},
   "source": [
    "## Initial steps\n",
    "\n",
    "First, we will fetch the software needed for our experiments, and also define the gene regions of interest:"
   ]
  },
  {
   "cell_type": "code",
   "execution_count": 2,
   "metadata": {
    "collapsed": true
   },
   "outputs": [],
   "source": [
    "%%bash\n",
    "cat <<- EOF > regions.txt\n",
    "1:97541298-98388615     # DPYD\n",
    "6:18126541-18157374     # TPMT\n",
    "6:31970000-32010000     # CYP21A\n",
    "7:99245000-99278000     # CYP3A5\n",
    "7:99354000-99465000     # CYP3A4\n",
    "10:96445000-96615000    # CYP2C19\n",
    "10:96691000-96754000    # CYP2C9\n",
    "10:96796000-96830000    # CYP2C8\n",
    "10:135337000-135352620  # CYP2E1\n",
    "12:21282127-21394730    # SLCO1B1\n",
    "15:75010000-75017877    # CYP1A1\n",
    "15:75038183-75048941    # CYP1A2\n",
    "16:28488000-28504000    # CLN3\n",
    "19:15619000-16009500    # CYP4F2\n",
    "19:41347500-41400000    # CYP2A6\n",
    "19:41428000-41525000    # CYP2B6\n",
    "22:42518900-42553000    # CYP2D6\n",
    "EOF\n",
    "\n",
    "git clone https://github.com/sfu-compbio/cypiripi ~/cypiripi\n",
    "cd ~/cypiripi\n",
    "git checkout 44b8949 \n",
    "cd -\n",
    "git clone https://github.com/sfu-compbio/mrsfast ~/mrsfast\n",
    "cd ~/mrsfast\n",
    "git checkout 32dda6a\n",
    "make -j \n",
    "cd -\n",
    "git clone https://github.com/BilkentCompGen/mrfast ~/mrfast\n",
    "cd ~/mrfast\n",
    "git checkout e8f70f7\n",
    "make -j \n",
    "cd - \n",
    "\n",
    "# manually wget astrolabe-0.7.5.tar.gz from \n",
    "# https://www.childrensmercy.org/Health_Care_Professionals/Research/Pediatric_Genomic_Medicine/Software_Tools/\n",
    "# because of EULA \n",
    "\n",
    "git clone git@bitbucket.org:compbio/aldy.git ~/aldy\n",
    "cd ~/aldy\n",
    "git checkout 832281c \n",
    "cd -\n",
    "export PATH=$PATH:~/mrsfast:~/mrfast:~/aldy/python:~/cypiripi/distribution"
   ]
  },
  {
   "cell_type": "markdown",
   "metadata": {},
   "source": [
    "Samtools with HTTPS support is necessary for BAM retrieval. It can be compiled with:\n",
    "\n",
    "```./configure --enable-configure-htslib --enable-libcurl \n",
    "   (--disable-bz2 --disable-lzma)```"
   ]
  },
  {
   "cell_type": "markdown",
   "metadata": {},
   "source": [
    "## Illumina Data"
   ]
  },
  {
   "cell_type": "code",
   "execution_count": 1,
   "metadata": {
    "collapsed": true,
    "scrolled": false
   },
   "outputs": [],
   "source": [
    "%%bash\n",
    "mkdir illumina-1000genomes\n",
    "cd illumina-1000genomes\n",
    "mkdir -p vcfs bams cypiripi aldy astrolabe"
   ]
  },
  {
   "cell_type": "markdown",
   "metadata": {},
   "source": [
    "#### Fetch BAM files"
   ]
  },
  {
   "cell_type": "code",
   "execution_count": null,
   "metadata": {
    "collapsed": true
   },
   "outputs": [],
   "source": [
    "%%bash\n",
    "function get_bam() {\n",
    "    sample=\"$1\"\n",
    "    bam_url=\"$2\"\n",
    "    prefix=\"$3\"\n",
    "    samtools view -H $bam_url > bams/${sample}.sam\n",
    "    for region in `cut -d' ' -f1 ../regions.txt`; do\n",
    "        samtools view $bam_url ${prefix}$region >> bams/${sample}.sam\n",
    "    done\n",
    "    samtools view -bS bams/${sample}.sam -o bams/${sample}.bam\n",
    "    samtools index bams/${sample}.bam\n",
    "    rm -rf bams/${sample}.sam\n",
    "}\n",
    "get_bam NA12877 https://storage.googleapis.com/genomics-public-data/platinum-genomes/bam/NA12877_S1.bam chr\n",
    "get_bam NA12878 https://storage.googleapis.com/genomics-public-data/platinum-genomes/bam/NA12878_S1.bam chr\n",
    "get_bam NA12889 https://storage.googleapis.com/genomics-public-data/platinum-genomes/bam/NA12889_S1.bam chr\n",
    "get_bam NA12890 https://storage.googleapis.com/genomics-public-data/platinum-genomes/bam/NA12890_S1.bam chr\n",
    "get_bam NA12891 https://storage.googleapis.com/genomics-public-data/platinum-genomes/bam/NA12891_S1.bam chr\n",
    "get_bam NA12892 https://storage.googleapis.com/genomics-public-data/platinum-genomes/bam/NA12892_S1.bam chr\n",
    "get_bam NA11832 https://storage.googleapis.com/genomics-public-data/ftp-trace.ncbi.nih.gov/1000genomes/ftp/phase3/data/NA11832/alignment/NA11832.mapped.ILLUMINA.bwa.CEU.low_coverage.20120522.bam\n",
    "get_bam NA19238 https://storage.googleapis.com/genomics-public-data/ftp-trace.ncbi.nih.gov/1000genomes/ftp/phase3/data/NA19238/high_coverage_alignment/NA19238.mapped.ILLUMINA.bwa.YRI.high_coverage_pcr_free.20130924.bam\n",
    "get_bam NA19239 https://storage.googleapis.com/genomics-public-data/ftp-trace.ncbi.nih.gov/1000genomes/ftp/phase3/data/NA19239/high_coverage_alignment/NA19239.mapped.ILLUMINA.bwa.YRI.high_coverage_pcr_free.20130924.bam\n",
    "get_bam NA19240 https://storage.googleapis.com/genomics-public-data/ftp-trace.ncbi.nih.gov/1000genomes/ftp/phase3/data/NA19240/high_coverage_alignment/NA19240.mapped.ILLUMINA.bwa.YRI.high_coverage_pcr_free.20130924.bam\n",
    "get_bam NA19900 https://storage.googleapis.com/genomics-public-data/ftp-trace.ncbi.nih.gov/1000genomes/ftp/phase3/data/NA19900/alignment/NA19900.mapped.ILLUMINA.bwa.ASW.low_coverage.20120522.bam\n",
    "get_bam NA10860 https://export.uppmax.uu.se/a2009002/opendata/HiSeqX_CEPH/NA10860-PCR-free-150pM/03-BAM/NA10860-PCR-free-150pM.clean.dedup.recal.bam\n",
    "get_bam NA11992 https://export.uppmax.uu.se/a2009002/opendata/HiSeqX_CEPH/CEP-NA11992/03-BAM/CEP-NA11992.clean.dedup.recal.bam\n",
    "get_bam NA11993 https://export.uppmax.uu.se/a2009002/opendata/HiSeqX_CEPH/NA11993-PCR-free-150pM/03-BAM/NA11993-PCR-free-150pM.clean.dedup.recal.bam\n",
    "\n",
    "# The following samples were obtained from dbGaP:\n",
    "#   NA12879, NA12880, NA12881, NA12882, NA12883, NA12884, \n",
    "#   NA12885, NA12886, NA12887, NA12888, NA12893"
   ]
  },
  {
   "cell_type": "markdown",
   "metadata": {},
   "source": [
    "#### Fetch VCF files"
   ]
  },
  {
   "cell_type": "code",
   "execution_count": null,
   "metadata": {
    "collapsed": true
   },
   "outputs": [],
   "source": [
    "%%bash\n",
    "function get_1000genomes_vcf() {\n",
    "    sample=\"$1\"\n",
    "    for region in `cut -d' ' -f1 ../regions.txt`; do\n",
    "        if [ \"$sample\" == \"NA19240\" ] ; then\n",
    "            url=\"ftp://ftp.1000genomes.ebi.ac.uk/vol1/ftp/release/20130502/supporting/related_samples_vcf/ALL.chr${region/\\:*/}.phase3_shapeit2_mvncall_integrated_v5_related_samples.20130502.genotypes.vcf.gz\"\n",
    "        else\n",
    "            url=\"ftp://ftp.1000genomes.ebi.ac.uk/vol1/ftp/release/20130502/ALL.chr${region/\\:*/}.phase3_shapeit2_mvncall_integrated_v5a.20130502.genotypes.vcf.gz\"\n",
    "        fi\n",
    "        echo \"$sample $url\"\n",
    "        tabix -h $url $region | vcf-subset -c $sample > ${region}.tmp\n",
    "    done\n",
    "    vcf-concat *.tmp | vcf-sort > \"vcfs/${sample}.vcf\"\n",
    "}\n",
    "get_1000genomes_vcf NA11832\n",
    "get_1000genomes_vcf NA19238\n",
    "get_1000genomes_vcf NA19239\n",
    "get_1000genomes_vcf NA19900\n",
    "get_1000genomes_vcf NA19240 \n",
    "\n",
    "function get_platinum_vcf() {\n",
    "    sample=\"$1\"\n",
    "    for region in `cut -d' ' -f1 ../regions.txt`; do\n",
    "        tabix -h vcfs/High_Confidence_Calls_HG19.vcf.gz \"chr$region\" | vcf-subset -c $sample > ${region}.tmp\n",
    "    done\n",
    "    vcf-concat *.tmp | vcf-sort > \"vcfs/${sample}_S1.genome.vcf\"\n",
    "}\n",
    "get_platinum_vcf NA12879\n",
    "get_platinum_vcf NA12880\n",
    "get_platinum_vcf NA12881\n",
    "get_platinum_vcf NA12882\n",
    "get_platinum_vcf NA12883\n",
    "get_platinum_vcf NA12884\n",
    "get_platinum_vcf NA12885\n",
    "get_platinum_vcf NA12886\n",
    "get_platinum_vcf NA12887\n",
    "get_platinum_vcf NA12888\n",
    "get_platinum_vcf NA12893\n",
    "\n",
    "wget -c -P vcfs https://storage.googleapis.com/genomics-public-data/platinum-genomes/vcf/NA12877_S1.genome.vcf\n",
    "wget -c -P vcfs https://storage.googleapis.com/genomics-public-data/platinum-genomes/vcf/NA12878_S1.genome.vcf\n",
    "wget -c -P vcfs https://storage.googleapis.com/genomics-public-data/platinum-genomes/vcf/NA12889_S1.genome.vcf\n",
    "wget -c -P vcfs https://storage.googleapis.com/genomics-public-data/platinum-genomes/vcf/NA12890_S1.genome.vcf\n",
    "wget -c -P vcfs https://storage.googleapis.com/genomics-public-data/platinum-genomes/vcf/NA12891_S1.genome.vcf\n",
    "wget -c -P vcfs https://storage.googleapis.com/genomics-public-data/platinum-genomes/vcf/NA12892_S1.genome.vcf\n",
    "wget -c -P vcfs https://export.uppmax.uu.se/a2009002/opendata/HiSeqX_CEPH/NA10860-PCR-free-150pM/04-VCF/NA10860-PCR-free-150pM.clean.dedup.recal.bam.recalibrated.indel.annotated.vcf\n",
    "wget -c -P vcfs https://export.uppmax.uu.se/a2009002/opendata/HiSeqX_CEPH/NA10860-PCR-free-150pM/04-VCF/NA10860-PCR-free-150pM.clean.dedup.recal.bam.recalibrated.snp.annotated.vcf\n",
    "wget -c -P vcfs https://export.uppmax.uu.se/a2009002/opendata/HiSeqX_CEPH/NA11993-PCR-free-150pM/04-VCF/NA11993-PCR-free-150pM.clean.dedup.recal.bam.recalibrated.indel.annotated.vcf\n",
    "wget -c -P vcfs https://export.uppmax.uu.se/a2009002/opendata/HiSeqX_CEPH/NA11993-PCR-free-150pM/04-VCF/NA11993-PCR-free-150pM.clean.dedup.recal.bam.recalibrated.snp.annotated.vcf\n",
    "wget -c -P vcfs https://export.uppmax.uu.se/a2009002/opendata/HiSeqX_CEPH/CEP-NA11992/04-VCF/CEP-NA11992.clean.dedup.recal.bam.recalibrated.indel.annotated.vcf\n",
    "wget -c -P vcfs https://export.uppmax.uu.se/a2009002/opendata/HiSeqX_CEPH/CEP-NA11992/04-VCF/CEP-NA11992.clean.dedup.recal.bam.recalibrated.snp.annotated.vcf\n",
    "    \n",
    "cd vcfs\n",
    "for i in NA128*.vcf ; do\n",
    "    perl -pe 's/^chr//' $i > ${i/_S1.genome/}\n",
    "done\n",
    "\n",
    "parallel -j15 --eta bgzip -f {} ::: *.vcf\n",
    "vcf-concat CEP-NA11992.clean.dedup.recal.bam.recalibrated.indel.annotated.vcf.gz CEP-NA11992.clean.dedup.recal.bam.recalibrated.snp.annotated.vcf.gz  | \\ \n",
    "    vcf-sort | bgzip -c > NA11992.vcf.gz\n",
    "vcf-concat NA10860-PCR-free-150pM.clean.dedup.recal.bam.recalibrated.indel.annotated.vcf.gz NA10860-PCR-free-150pM.clean.dedup.recal.bam.recalibrated.snp.annotated.vcf.gz | \\\n",
    "    vcf-sort | bgzip -c > NA10860.vcf.gz\n",
    "vcf-concat NA11993-PCR-free-150pM.clean.dedup.recal.bam.recalibrated.indel.annotated.vcf.gz NA11993-PCR-free-150pM.clean.dedup.recal.bam.recalibrated.snp.annotated.vcf.gz | \\\n",
    "    vcf-sort | bgzip -c > NA11993.vcf.gz        \n",
    "\n",
    "rm -rf *.annotated.vcf.gz *_S1.genome.vcf.gz\n",
    "parallel -j15 --eta tabix -p vcf {} ::: *.vcf.gz\n",
    "\n",
    "cd ..\n",
    "rm -rf *.tmp *.tbi"
   ]
  },
  {
   "cell_type": "markdown",
   "metadata": {},
   "source": [
    "#### Run Astrolabe\n",
    "\n",
    "Astrolabe only supports GRCh37."
   ]
  },
  {
   "cell_type": "code",
   "execution_count": null,
   "metadata": {
    "collapsed": true
   },
   "outputs": [],
   "source": [
    "%%bash\n",
    "for i in NA12877 NA12878 NA12889 NA12890 NA12891 NA12892 NA12879 NA12880 NA12881 NA12882 NA12883 NA12884 NA12885 NA12886 NA12887 NA12888 NA12893 ; do \n",
    "    samtools view -H bams/${i}.bam |  sed  -e 's/SN:chr\\([0-9XY]*\\)/SN:\\1/' | \\\n",
    "        samtools reheader - bams/${i}.bam > \"bams/${i}.NCBI.bam\" \n",
    "    samtools index \"bams/${i}.NCBI.bam\" \n",
    "    ~/astrolabe-0.7.5/run-astrolabe.sh \\\n",
    "        -inputVCF vcfs/${i}.vcf.gz \\\n",
    "        -inputBam bams/${i}.NCBI.bam \\\n",
    "        -conf ~/astrolabe-0.7.5/astrolabe.ini \\\n",
    "        -outFile astrolabe/${i}.log \n",
    "done\n",
    "\n",
    "for i in NA10860 NA11832 NA11992 NA11993 NA19900 ; do \n",
    "    ~/astrolabe-0.7.5/run-astrolabe.sh \\\n",
    "        -inputVCF vcfs/${i}.vcf.gz \\\n",
    "        -inputBam bams/${i}.bam \\\n",
    "        -conf ~/astrolabe-0.7.5/astrolabe.ini \\\n",
    "        -outFile astrolabe/${i}.log  \n",
    "done\n",
    "\n",
    "# VCFs (extracted from 1000 genomes) here do not match BAMs \n",
    "# (which are sequenced afterwards with hi-coverage), \n",
    "# so ignore BAMs\n",
    "for i in NA19238 NA19239 NA19240 ; do \n",
    "    ~/astrolabe-0.7.5/run-astrolabe.sh \\\n",
    "        -inputVCF vcfs/${i}.vcf.gz \\\n",
    "        -conf ~/astrolabe-0.7.5/astrolabe.ini \\\n",
    "        -outFile astrolabe/${i}.log  \n",
    "done"
   ]
  },
  {
   "cell_type": "markdown",
   "metadata": {},
   "source": [
    "#### Run Cypiripi"
   ]
  },
  {
   "cell_type": "markdown",
   "metadata": {},
   "source": [
    "Platinum Genomes (NA128*) FASTQs, as well as NA19900 from 1000 genomes, are extracted from BAM files. Platinum Genomes are sequenced with 2x101bp 50x coverage."
   ]
  },
  {
   "cell_type": "code",
   "execution_count": null,
   "metadata": {
    "collapsed": true
   },
   "outputs": [],
   "source": [
    "for i in bams/NA128*.bam bams/NA19900.bam; do\n",
    "    sample=${i:5:7}\n",
    "    samtools sort -n bams/${sample}.bam > ${sample}.qsort \n",
    "    bedtools bamtofastq -i ${sample}.qsort -fq f1.fq -fq2 f2.fq >/dev/null 2>&1 \n",
    "    paste f1.fq f2.fq  | paste - - - - | awk -v OFS=\"\\n\" -v FS=\"\\t\" '{print($1,$3,$5,$7,$2,$4,$6,$8)}' |\\\n",
    "        sed 's/\\/[12]$//' > cypiripi/${sample}.fq\n",
    "    rm -rf ${sample}.qsort f1.fq f2.fq\n",
    "    echo \" ${sample} done! \"\n",
    "done\n",
    "\n",
    "parallel --eta \\\n",
    "    'cypiripi.py -r ~/cypiripi/distribution/reference -f {} >{}.maplog 2>&1' ::: NA1{28,99}*.fq\n",
    "parallel --eta \\\n",
    "    'cypiripi -f ~/cypiripi/distribution/reference.combined.align \\\n",
    "       -s {} -C 25 -E 500 -T 7 >{}.results 2>&1' ::: NA128*.sam\n",
    "                \n",
    "# IMPORTANT NOTE: cypiripi-fixed changes:\n",
    "# ilp.cc:105@unwindMultiSNP must be commented out (or McAssert should be changed to E) for this to run\n",
    "parallel --eta \\\n",
    "    'cypiripi-fixed -f ~/cypiripi/distribution/reference.combined.align \\\n",
    "       -s {} -C 25 -E 500 -T 7 >{}.results 2>&1' ::: NA128{77,90,92}*.sam\n",
    "parallel --eta \\\n",
    "    'cypiripi-fixed -f ~/cypiripi/distribution/reference.combined.align \\\n",
    "       -s {} -C 20 -E 500 -T 5 >{}.results 2>&1' ::: NA128{84,89,79,80}*.sam\n",
    "cypiripi-fixed -f ~/cypiripi/distribution/reference.combined.align \\\n",
    "    -s NA19900.fq.sam -C 7 -E 500 -T 2 >NA19900.fq.sam.results 2>&1"
   ]
  },
  {
   "cell_type": "markdown",
   "metadata": {},
   "source": [
    "1000 Genome samples NA11832 is not compatible because the read lengths are variable.\n",
    "Sample NA11992 has corrupted FASTQs, so data for Cypiripi was not generated.\n",
    "Other samples have clipped BAMs, so we need to download FASTQ files:"
   ]
  },
  {
   "cell_type": "code",
   "execution_count": null,
   "metadata": {
    "collapsed": true
   },
   "outputs": [],
   "source": [
    "%%bash\n",
    "mkdir tmp\n",
    "cd tmp\n",
    "wget -c ftp://ftp.sra.ebi.ac.uk/vol1/fastq/ERR309/ERR309932/ERR309932_1.fastq.gz\n",
    "wget -c ftp://ftp.sra.ebi.ac.uk/vol1/fastq/ERR309/ERR309932/ERR309932_2.fastq.gz\n",
    "wget -c ftp://ftp.sra.ebi.ac.uk/vol1/fastq/ERR309/ERR309933/ERR309933_1.fastq.gz\n",
    "wget -c ftp://ftp.sra.ebi.ac.uk/vol1/fastq/ERR309/ERR309933/ERR309933_2.fastq.gz\n",
    "wget -c ftp://ftp.sra.ebi.ac.uk/vol1/fastq/ERR309/ERR309934/ERR309934_1.fastq.gz\n",
    "wget -c ftp://ftp.sra.ebi.ac.uk/vol1/fastq/ERR309/ERR309934/ERR309934_2.fastq.gz\n",
    "wget -c https://export.uppmax.uu.se/a2009002/opendata/HiSeqX_CEPH/NA10860-PCR-free-150pM/02-FASTQ/NA10860-PCR-free-150pM_S1_L007_R1_001.fastq.gz\n",
    "wget -c https://export.uppmax.uu.se/a2009002/opendata/HiSeqX_CEPH/NA10860-PCR-free-150pM/02-FASTQ/NA10860-PCR-free-150pM_S1_L007_R2_001.fastq.gz\n",
    "wget -c https://export.uppmax.uu.se/a2009002/opendata/HiSeqX_CEPH/NA11993-PCR-free-150pM/02-FASTQ/NA11993-PCR-free-150pM_S1_L004_R1_001.fastq.gz\n",
    "wget -c https://export.uppmax.uu.se/a2009002/opendata/HiSeqX_CEPH/NA11993-PCR-free-150pM/02-FASTQ/NA11993-PCR-free-150pM_S1_L004_R2_001.fastq.gz\n",
    "parallel 'pigz -d -c {} | split -l 16000000 - split/{}' ::: *.fastq.gz\n",
    "\n",
    "mkdir cypiripi\n",
    "for i in ERR*_1.fastq.gz?? ; do\n",
    "    paste $i ${i/_1/_2} | paste - - - - | \\\n",
    "        awk -v OFS=\"\\n\" -v FS=\"\\t\" '{print($1,$3,$5,$7,$2,$4,$6,$8)}' | sed 's/\\/[12]$//' \\\n",
    "        > cypiripi/${i/_1/}.fq\n",
    "done\n",
    "for i in NA*_R1*.fastq.gz?? ; do\n",
    "    paste $i ${i/R1/R2} | paste - - - - | \\\n",
    "        awk -v OFS=\"\\n\" -v FS=\"\\t\" '{print($1,$3,$5,$7,$2,$4,$6,$8)}' | sed 's/\\/[12]$//' \\\n",
    "        > cypiripi/${i/R1/}.fq\n",
    "done\n",
    "\n",
    "function align() {\n",
    "    i=\"$1\"\n",
    "    mrserr=\"$2\"\n",
    "    mrerr=\"$3\"\n",
    "    pemin=\"$4\"\n",
    "    pemax=\"$5\"\n",
    "    ~/mrsfast/mrsfast --search ~/cypiripi/distribution/reference.cyp2d6.fa -e $mrserr --seqcomp \\\n",
    "         --seq ${i} -o ${i}.cyp2D6.sam --disable-sam-header --disable-nohits\n",
    "    ~/mrfast/mrfast --search ~/cypiripi/distribution/reference.cyp2d7.fa -e $mrerr --seqcomp \\\n",
    "        --seq ${i} -o ${i}.cyp2D7.sam -u ${i}.X1.sam.unmap\n",
    "    rm -rf ${i}.X1.sam.unmap\n",
    "    ~/mrsfast/mrsfast --search ~/cypiripi/distribution/reference.cyp2d6.fa -e $mrserr --seqcomp \\\n",
    "        --pe --seq ${i} -o ${i}.cyp2D6.sam.paired --disable-sam-header --disable-nohits --min $pemin --max $pemax\n",
    "    ~/mrfast/mrfast --search ~/cypiripi/distribution/reference.cyp2d7.fa -e $mrerr --seqcomp \\\n",
    "        --pe --seq ${i} -o ${i}.cyp2D7.sam.paired -u ${i}.X2.sam.unmap --min $pemin --max $pemax\n",
    "    rm -rf ${i}.X2.sam.unmap\n",
    "    \n",
    "    # On SGE cluster, this qsub runs this function without any problems:\n",
    "    # parallel -j1 qsub -cwd -V -b y -N \"map{}\" -l h_vmem=14G -l h_rt=8:00:00 -l h_stack=8 ...\n",
    "}\n",
    "\n",
    "cd cypiripi\n",
    "parallel align {} 3  8 150  800 ::: NA*PCR-free*.fq # These samples are 2x150bp 30x\n",
    "parallel align {} 5 12 200 1000 ::: ERR*.fq # These samples are roughly 2x250bp 25x\n",
    "\n",
    "for i in ERR309932 ERR309933 ERR309934 NA11993 NA10860 ; do\n",
    "    cat ${i}*.cyp2D6.sam ${i}*.cyp2D7.sam > ${i}.sam\n",
    "    cat ${i}*.cyp2D6.sam.paired ${i}*.cyp2D7.sam.paired > ${i}.sam.paired\n",
    "    cypiripi.py -r ~/cypiripi/distribution/reference -s ${i}.sam\n",
    "done\n",
    "zmv -W 'ERR309932.sam*' 'NA19238.sam*'\n",
    "zmv -W 'ERR309933.sam*' 'NA19239.sam*'\n",
    "zmv -W 'ERR309934.sam*' 'NA19240.sam*'\n",
    "mv NA*.sam* ../../\n",
    "\n",
    "cd ../..\n",
    "rm -rf tmp\n",
    "\n",
    "parallel 'cypiripi -f ~/cypiripi/distribution/reference.combined.align \\\n",
    "    -s {} -C 14 -E 500 -T 3 >{}.results 2>&1' ::: NA192*.sam\n",
    "parallel 'cypiripi -f ~/cypiripi/distribution/reference.combined.align \\\n",
    "    -s {} -C 13 -E 500 -T 3 >{}.results 2>&1' ::: NA1{08,19}*.sam"
   ]
  },
  {
   "cell_type": "markdown",
   "metadata": {},
   "source": [
    "#### Run Aldy"
   ]
  },
  {
   "cell_type": "code",
   "execution_count": null,
   "metadata": {
    "collapsed": true
   },
   "outputs": [],
   "source": [
    "%%bash\n",
    "parallel --eta aldy.py -p illumina {} -o aldy/{/}.log ::: bams/*.bam"
   ]
  },
  {
   "cell_type": "markdown",
   "metadata": {},
   "source": [
    "## PGRNseq data (BCM-HGSC)"
   ]
  },
  {
   "cell_type": "code",
   "execution_count": null,
   "metadata": {
    "collapsed": true
   },
   "outputs": [],
   "source": [
    "%%bash\n",
    "mkdir pgrnseq-baylor\n",
    "cd pgrnseq-baylor\n",
    "mkdir -p vcfs cypiripi aldy astrolabe\n",
    "\n",
    "JAVA=\"../software/jre-1.7.0_80/bin/java -Xmx16g -jar\"\n",
    "PICARD=\"../software/picard-1.140/picard.jar\"\n",
    "BWA=\"../software/bwa-0.7.12/bwa\"\n",
    "GATK=\"../software/gatk-2.5-2/GenomeAnalysisTK-2.5-2.jar\"\n",
    "GATK3=\"../software/gatk-3.3-0/GenomeAnalysisTK-3.3-0.jar\"\n",
    "\n",
    "ref=\"../resources/human_g1k_v37.fasta\"\n",
    "known_snp=\"../resources/dbsnp_138.b37.vcf.gz\"\n",
    "known_indel=\"../resources/1000G_phase1.indels.b37.vcf.gz\"\n",
    "known_indel_2=\"../resources/Mills_and_1000G_gold_standard.indels.b37.vcf.gz\""
   ]
  },
  {
   "cell_type": "markdown",
   "metadata": {},
   "source": [
    "Obtained from BCM-HGSC:\n",
    "\n",
    "- `amplicons_fastq/`\n",
    "- `bams/` (already aligned according to the procedure below)\n",
    "- `fastq/`"
   ]
  },
  {
   "cell_type": "markdown",
   "metadata": {},
   "source": [
    "#### Alignment"
   ]
  },
  {
   "cell_type": "code",
   "execution_count": null,
   "metadata": {
    "collapsed": true
   },
   "outputs": [],
   "source": [
    "%%bash\n",
    "sample=$1\n",
    "outdir=\"gatk-calls/${sample}\"\n",
    "mkdir -p ${outdir} ${outdir}/tmp\n",
    "\n",
    "function align() { # Alignment (Baylor samples are already aligned)\n",
    "    $BWA aln $ref ${sample}.fq.1 -t 4 > ${outdir}/${sample}.sai.1\n",
    "    $BWA aln $ref ${sample}.fq.2 -t 4 > ${outdir}/${sample}.sai.2\n",
    "    $BWA sampe $ref ${outdir}/${sample}.sai.1 ${outdir}/${sample}.sai.2 ${sample}.fq.1 ${sample}.fq.2 \\\n",
    "        -r \"@RG\\tID:${sample}\\tSM:${sample}\\tPL:illumina\\tLB:${sample}\" | \\\n",
    "        samtools view -Sbh - -o ${outdir}/${sample}.hg19.bam\n",
    "    $JAVA $PICARD SortSam VALIDATION_STRINGENCY=SILENT SO=coordinate \\\n",
    "        I=${outdir}/${sample}.hg19.bam O=${outdir}/${sample}.hg19.sort.bam \\\n",
    "        TMP_DIR=./${outdir}/tmp/\n",
    "    $JAVA $PICARD MarkDuplicates VALIDATION_STRINGENCY=SILENT AS=true \\\n",
    "      I=${outdir}/${sample}.hg19.sort.bam O=${outdir}/${sample}.hg19.marked.bam \\\n",
    "      M=${outdir}/${sample}.hg19.marked.metrics TMP_DIR=./${outdir}/tmp/\n",
    "    samtools index ${outdir}/${sample}.hg19.marked.bam\n",
    "}\n",
    "function realign() { # Realignment (Baylor samples are already realigned)\n",
    "    $JAVA $GATK -T RealignerTargetCreator -nt 4 \\\n",
    "        -I ${outdir}/${sample}.hg19.marked.bam -R $ref \\\n",
    "        -o ${outdir}/${sample}.hg19.GATKrealign.intervals \\\n",
    "        -known $known_indel -known $known_snp -known $known_indel_2 \\\n",
    "        --downsampling_type NONE\n",
    "    $JAVA $GATK -T IndelRealigner \\\n",
    "        -I ${outdir}/${sample}.hg19.marked.bam -R $ref \\\n",
    "        -o ${outdir}/${sample}.hg19.realigned.bam \\\n",
    "        -targetIntervals ${outdir}/${sample}.hg19.GATKrealign.intervals \\\n",
    "        -known $known_snp -known $known_indel -known $known_indel_2 \\\n",
    "        --downsampling_type NONE --consensusDeterminationModel USE_READS\n",
    "    $JAVA $GATK -T BaseRecalibrator -nct 4 \\\n",
    "        -I ${outdir}/${sample}.hg19.realigned.bam -R $ref \\\n",
    "        -o ${outdir}/${sample}.hg19.GATKrecal_data.grp \\\n",
    "        -knownSites $known_snp -knownSites $known_indel -knownSites $known_indel_2 \\\n",
    "        --downsampling_type NONE -cov ReadGroupCovariate \\\n",
    "        -cov QualityScoreCovariate -cov CycleCovariate -cov ContextCovariate \\\n",
    "    $JAVA -Djava.io.tmpdir=./${sample}/tmp/ -jar $GATK -T PrintReads -nct 4 \\\n",
    "        -I ${sample}/${sample}.hg19.realigned.bam -R $ref \\\n",
    "        -o ${sample}/${sample}.hg19.realigned.recal.bam \\\n",
    "        -BQSR ${sample}/${sample}.hg19.GATKrecal_data.grp \\\n",
    "        --emit_original_quals --downsampling_type NONE \n",
    "}"
   ]
  },
  {
   "cell_type": "markdown",
   "metadata": {},
   "source": [
    "#### VCF generation"
   ]
  },
  {
   "cell_type": "code",
   "execution_count": null,
   "metadata": {
    "collapsed": true
   },
   "outputs": [],
   "source": [
    "%%bash\n",
    "function getvcf() { # VCF calling\n",
    "    bam=\"$1\" # ${sample}/${sample}.hg19.realigned.recal.bam\n",
    "    extra=\"$2\"\n",
    "    $JAVA $GATK3 -T HaplotypeCaller -nct 8 \\\n",
    "        -I ${bam} -R $ref \\\n",
    "        -o ${outdir}/${sample}.hg19.raw.snps.indels.g.vcf\n",
    "        --dbsnp $known_snp \\\n",
    "        --emitRefConfidence GVCF --variant_index_type LINEAR --variant_index_parameter 128000\n",
    "    $JAVA $GATK3 -T GenotypeGVCFs \\\n",
    "        --variant ${outdir}/${sample}.hg19.raw.snps.indels.g.vcf -R $ref \\\n",
    "        -o ${outdir}/${sample}.hg19.raw.snps.indels.vcf\n",
    "    $JAVA $GATK3 -T VariantAnnotator \\\n",
    "        -I ${bam} -R $ref \\\n",
    "        -o ${outdir}/${sample}.hg19.raw.snps.indels.annotate.vcf \\\n",
    "        --dbsnp $known_snp --variant ${outdir}/${sample}.hg19.raw.snps.indels.vcf \\\n",
    "        -L ${outdir}/${sample}.hg19.raw.snps.indels.vcf \\\n",
    "        -A Coverage -A BaseQualityRankSumTest -A FisherStrand -A HaplotypeScore \\\n",
    "        -A InbreedingCoeff -A MappingQualityRankSumTest\n",
    "    $JAVA $GATK3 -T VariantRecalibrator \\\n",
    "        -input ${outdir}/${sample}.hg19.raw.snps.indels.annotate.vcf -R $ref \\\n",
    "        -recalFile ${outdir}/${sample}.hg19.raw.snps.recal \\\n",
    "        -tranchesFile ${outdir}/${sample}.hg19.raw.snps.tranches \\\n",
    "        -rscriptFile ${outdir}/${sample}.hg19.recal.plots.R \\\n",
    "        -resource:dbsnp,VCF,known=false,training=true,truth=true,prior=6.0 $known_snp \\\n",
    "        -an BaseQRankSum -an DP -an FS -an HaplotypeScore -an MQ -an MQRankSum -an QD -an ReadPosRankSum \\\n",
    "        -mode BOTH $extra\n",
    "    $JAVA $GATK3 -T ApplyRecalibration \\\n",
    "        -input ${outdir}/${sample}.hg19.raw.snps.indels.annotate.vcf -R $ref \\\n",
    "        -o ${outdir}/${sample}.hg19.SNPs.vcf \\\n",
    "        -recalFile ${outdir}/${sample}.hg19.raw.snps.recal \\\n",
    "        -tranchesFile ${outdir}/${sample}.hg19.raw.snps.tranches \\\n",
    "        -mode BOTH -ts_filter_level 99.0 \n",
    "}"
   ]
  },
  {
   "cell_type": "markdown",
   "metadata": {},
   "source": [
    "Samples NA07345, NA19129, NA19202 and NA19770 need `--maxGaussians 4` for VariantRecalibrator (otherwise, VariantRecalibrator cannot find any data). Same goes for PGXT107, PGXT120, PGXT125, PGXT135, PGXT147, PGXT178, PGXT179, PGXT180 and PGXT223 in CDC data."
   ]
  },
  {
   "cell_type": "code",
   "execution_count": null,
   "metadata": {
    "collapsed": true
   },
   "outputs": [],
   "source": [
    "%%bash\n",
    "for i in bams/*.bam ; do getvcf $i ; done\n",
    "for i in NA07345 NA19129 NA19202 NA19770 ; do getvcf \"bams/${i}.bam\" '--maxGaussians 4'; done\n",
    "rsync -Pvza 'gatk-calls/*/*.SNPs.vcf' vcfs/\n",
    "rm -rf gatk-calls\n",
    "cd vcfs\n",
    "zmv -W '*.hg19.SNPs.vcf' '*.vcf'\n",
    "parallel -j15 --eta bgzip -f {} ::: *.vcf\n",
    "parallel -j15 --eta tabix -p vcf {} ::: *.vcf.gz"
   ]
  },
  {
   "cell_type": "markdown",
   "metadata": {},
   "source": [
    "#### Run Astrolabe\n"
   ]
  },
  {
   "cell_type": "code",
   "execution_count": null,
   "metadata": {
    "collapsed": true
   },
   "outputs": [],
   "source": [
    "%%bash\n",
    "for i in bams/*.bam ; do \n",
    "    j=${i:5:7};\n",
    "    ~/astrolabe-0.7.5/run-astrolabe.sh \\\n",
    "        -inputVCF vcfs/${j}.vcf.gz -inputBam $i \\\n",
    "        -outFile astrolabe/${j}.log \\\n",
    "        -conf ~/astrolabe-0.7.5/astrolabe.ini\n",
    "done"
   ]
  },
  {
   "cell_type": "markdown",
   "metadata": {},
   "source": [
    "#### Run Cypiripi"
   ]
  },
  {
   "cell_type": "code",
   "execution_count": null,
   "metadata": {
    "collapsed": true
   },
   "outputs": [],
   "source": [
    "%%bash\n",
    "for i in fastq/*.fq.1.bz2 ; do\n",
    "    sample=${i:6:7}\n",
    "    paste <(bzip2 -d -c $i) <(bzip2 -d -c ${i/.1/.2}) | paste - - - - | \\\n",
    "        awk -v OFS=\"\\n\" -v FS=\"\\t\" '{print($1,$3,$5,$7,$2,$4,$6,$8)}' > cypiripi/${sample}.i.fq\n",
    "done\n",
    "\n",
    "cd cypiripi\n",
    "parallel 'cypiripi.py -r ~/cypiripi/distribution/reference -f {} >{}.execlog 2>&1' ::: *.i.fq\n",
    "\n",
    "parallel --eta 'cypiripi -f ~/cypiripi/distribution/reference.combined.align \\\n",
    "    -s {} -C 350 -E 10000 -T 87 >{}.results 2>&1' ::: *.sam\n",
    "parallel --eta 'cypiripi -f ~/cypiripi/distribution/reference.combined.align \\\n",
    "    -s {} -C 330 -E 10000 -T 82 >{}.results 2>&1' ::: NA19701*.sam\n",
    "parallel --eta 'cypiripi -f ~/cypiripi/distribution/reference.combined.align \\\n",
    "    -s {} -C 420 -E 10000 -T 105 >{}.results 2>&1' ::: \\\n",
    "    {HG00423,HG00464,HG01061,HG01062,HG01981,NA10861,NA12400,NA12891,NA18507,NA19818,NA19834,NA19902}*.sam\n",
    "parallel --eta 'cypiripi -f ~/cypiripi/distribution/reference.combined.align \\\n",
    "    -s {} -C 600 -E 10000 -T 150 -F >log_350/{}.results 2>&1' ::: \\\n",
    "    {HG00465,HG00463}*.sam\n",
    "\n",
    "## HG01981 / NA19127 WAT?\n",
    "# NA19701 better coverage! // 330!\n",
    "\n",
    "### -C 450 -E 10000 -T 112 ::: NA18517 "
   ]
  },
  {
   "cell_type": "markdown",
   "metadata": {},
   "source": [
    "#### Run Aldy"
   ]
  },
  {
   "cell_type": "code",
   "execution_count": null,
   "metadata": {
    "collapsed": true
   },
   "outputs": [],
   "source": [
    "%%bash\n",
    "\n",
    "for g in CYP2D6 CYP2A6 CYP2C19 CYP2C8 CYP2C9 CYP3A4 CYP3A5 CYP4F2 TPMT DPYD; do\n",
    "    parallel --eta aldy.py -p pgrnseq-v2 {} -g $g -o aldy/{/}-${g}.log ::: bams/*.bam;\n",
    "done"
   ]
  },
  {
   "cell_type": "markdown",
   "metadata": {},
   "source": [
    "## PGXT (CDC) samples"
   ]
  },
  {
   "cell_type": "code",
   "execution_count": null,
   "metadata": {
    "collapsed": true
   },
   "outputs": [],
   "source": [
    "%%bash\n",
    "cd vcfs\n",
    "for i in {101..193}; do \n",
    "    time vcf-concat SNP/PGXT${i}.SNPs.vcf INDEL/PGXT${i}.INDELs.vcf | vcf-sort > PGXT${i}.vcf  \n",
    "done\n",
    "for i in {193..241}; do \n",
    "    time vcf-concat SNP/PGXT${i}.SNPs_Annotated.vcf INDEL/PGXT${i}.INDELs_Annotated.vcf | vcf-sort > PGXT${i}.vcf  \n",
    "done\n",
    "\n",
    "parallel -j15 --eta bgzip -f {} ::: *.vcf\n",
    "parallel -j15 --eta tabix -p vcf {} ::: *.vcf.gz\n",
    "\n",
    "cd ..\n",
    "mkdir aldy\n",
    "for g in CYP2D6 CYP2A6 CYP2C19 CYP2C8 CYP2C9 CYP3A4 CYP3A5 CYP4F2 TPMT DPYD; do\n",
    "    echo $g;\n",
    "    parallel --eta aldy.py -p pgrnseq-v1 {} -g $g -o aldy/{/}-${g}.log ::: bams/*.bam;\n",
    "done"
   ]
  }
 ],
 "metadata": {
  "kernel_info": {
   "name": "python2"
  },
  "kernelspec": {
   "display_name": "Python 2",
   "language": "python",
   "name": "python2"
  },
  "language_info": {
   "codemirror_mode": {
    "name": "ipython",
    "version": 3
   },
   "file_extension": ".py",
   "mimetype": "text/x-python",
   "name": "python",
   "nbconvert_exporter": "python",
   "pygments_lexer": "ipython3",
   "version": "3.6.4"
  },
  "nteract": {
   "version": "0.3.4"
  },
  "toc": {
   "nav_menu": {},
   "number_sections": true,
   "sideBar": true,
   "skip_h1_title": false,
   "title_cell": "Table of Contents",
   "title_sidebar": "Contents",
   "toc_cell": false,
   "toc_position": {},
   "toc_section_display": true,
   "toc_window_display": false
  }
 },
 "nbformat": 4,
 "nbformat_minor": 2
}
